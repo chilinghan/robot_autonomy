{
 "cells": [
  {
   "cell_type": "markdown",
   "metadata": {},
   "source": [
    "# A* Motion Planning"
   ]
  },
  {
   "cell_type": "code",
   "execution_count": 1,
   "metadata": {},
   "outputs": [],
   "source": [
    "# The autoreload extension will automatically load in new code as you edit files, \n",
    "# so you don't need to restart the kernel every time\n",
    "%load_ext autoreload\n",
    "%autoreload 2\n",
    "import numpy as np\n",
    "import matplotlib.pyplot as plt\n",
    "import scipy.interpolate\n",
    "from astar import DetOccupancyGrid2D, AStar\n",
    "from utils import generate_planning_problem"
   ]
  },
  {
   "cell_type": "code",
   "execution_count": 2,
   "metadata": {},
   "outputs": [
    {
     "ename": "ModuleNotFoundError",
     "evalue": "No module named 'asl_tb3_lib'",
     "output_type": "error",
     "traceback": [
      "\u001b[0;31m---------------------------------------------------------------------------\u001b[0m",
      "\u001b[0;31mModuleNotFoundError\u001b[0m                       Traceback (most recent call last)",
      "Cell \u001b[0;32mIn[2], line 1\u001b[0m\n\u001b[0;32m----> 1\u001b[0m \u001b[38;5;28;01mfrom\u001b[39;00m\u001b[38;5;250m \u001b[39m\u001b[38;5;21;01masl_tb3_lib\u001b[39;00m\u001b[38;5;21;01m.\u001b[39;00m\u001b[38;5;21;01mnavigation\u001b[39;00m\u001b[38;5;250m \u001b[39m\u001b[38;5;28;01mimport\u001b[39;00m TrajectoryPlan\n",
      "\u001b[0;31mModuleNotFoundError\u001b[0m: No module named 'asl_tb3_lib'"
     ]
    }
   ],
   "source": [
    "from asl_tb3_lib.navigation import TrajectoryPlan"
   ]
  },
  {
   "cell_type": "markdown",
   "metadata": {},
   "source": [
    "## Simple Environment\n",
    "(Please submit resulting plot from this section in your write-up)\n",
    "### Workspace"
   ]
  },
  {
   "cell_type": "code",
   "execution_count": 3,
   "metadata": {},
   "outputs": [],
   "source": [
    "width = 10\n",
    "height = 10\n",
    "obstacles = [((6,7),(8,8)),((2,2),(4,3)),((2,5),(4,7)),((6,3),(8,5))]\n",
    "occupancy = DetOccupancyGrid2D(width, height, obstacles)"
   ]
  },
  {
   "cell_type": "markdown",
   "metadata": {},
   "source": [
    "### Starting and final positions"
   ]
  },
  {
   "cell_type": "code",
   "execution_count": 4,
   "metadata": {},
   "outputs": [],
   "source": [
    "x_init = (1, 9)\n",
    "x_goal = (9, 1)"
   ]
  },
  {
   "cell_type": "markdown",
   "metadata": {},
   "source": [
    "### Run A* planning"
   ]
  },
  {
   "cell_type": "code",
   "execution_count": 5,
   "metadata": {},
   "outputs": [
    {
     "data": {
      "image/png": "[encoded data removed]",
      "text/plain": [
       "<Figure size 500x500 with 1 Axes>"
      ]
     },
     "metadata": {},
     "output_type": "display_data"
    }
   ],
   "source": [
    "astar = AStar((0, 0), (width, height), x_init, x_goal, occupancy)\n",
    "if not astar.solve():\n",
    "    print(\"No path found\")\n",
    "else:\n",
    "    plt.rcParams['figure.figsize'] = [5, 5]\n",
    "    astar.plot_path()\n",
    "    astar.plot_tree()"
   ]
  },
  {
   "cell_type": "markdown",
   "metadata": {},
   "source": [
    "## Random Cluttered Environment\n",
    "### Generate workspace, start and goal positions\n",
    "(Try changing these and see what happens)"
   ]
  },
  {
   "cell_type": "code",
   "execution_count": 6,
   "metadata": {},
   "outputs": [],
   "source": [
    "width = 10\n",
    "height = 10\n",
    "num_obs = 25\n",
    "min_size = .5\n",
    "max_size = 3\n",
    "\n",
    "occupancy, x_init, x_goal = generate_planning_problem(width, height, num_obs, min_size, max_size)"
   ]
  },
  {
   "cell_type": "markdown",
   "metadata": {},
   "source": [
    "### Run A* planning"
   ]
  },
  {
   "cell_type": "code",
   "execution_count": null,
   "metadata": {},
   "outputs": [],
   "source": [
    "astar = AStar((0, 0), (width, height), x_init, x_goal, occupancy, resolution=0.1)\n",
    "if not astar.solve():\n",
    "    print(\"No path found! (This is normal, try re-running the block above)\")\n",
    "else:\n",
    "    plt.rcParams['figure.figsize'] = [10, 10]\n",
    "    astar.plot_path()\n",
    "    astar.plot_tree(point_size=2)"
   ]
  },
  {
   "cell_type": "markdown",
   "metadata": {},
   "source": [
    "# Smooth Trajectory "
   ]
  },
  {
   "cell_type": "code",
   "execution_count": null,
   "metadata": {},
   "outputs": [],
   "source": [
    "def compute_smooth_plan(path, v_desired=0.15, spline_alpha=0.05) -> TrajectoryPlan:\n",
    "    # Ensure path is a numpy array\n",
    "    path = np.asarray(astar.path)\n",
    "\n",
    "    # Compute and set the following variables:\n",
    "    #   1. ts: \n",
    "    #      Compute an array of time stamps for each planned waypoint assuming some constant \n",
    "    #      velocity between waypoints. \n",
    "    #\n",
    "    #   2. path_x_spline, path_y_spline:\n",
    "    #      Fit cubic splines to the x and y coordinates of the path separately\n",
    "    #      with respect to the computed time stamp array.\n",
    "    #      Hint: Use scipy.interpolate.splrep\n",
    "    \n",
    "    ##### YOUR CODE STARTS HERE #####\n",
    "    ts = None\n",
    "    path_x_spline = None\n",
    "    path_y_spline = None\n",
    "    scipy.interpolate.s\n",
    "    ###### YOUR CODE END HERE ######\n",
    "    \n",
    "    return TrajectoryPlan(\n",
    "        path=path,\n",
    "        path_x_spline=path_x_spline,\n",
    "        path_y_spline=path_y_spline,\n",
    "        duration=ts[-1],\n",
    "    )"
   ]
  },
  {
   "cell_type": "code",
   "execution_count": null,
   "metadata": {},
   "outputs": [],
   "source": [
    "# construct a trajectory plan\n",
    "plan = compute_smooth_plan(astar.path)"
   ]
  },
  {
   "cell_type": "code",
   "execution_count": null,
   "metadata": {},
   "outputs": [],
   "source": [
    "# plot AStar path v.s. smoothed path\n",
    "astar_path = np.asarray(astar.path)\n",
    "smoothed_path = plan.smoothed_path()\n",
    "\n",
    "plt.plot(astar_path[:,0], astar_path[:,1], 'b-', label='Original Path')\n",
    "plt.plot(smoothed_path[:, 0], smoothed_path[:, 1], 'r-', label='Smoothed Path')\n",
    "plt.legend()\n",
    "plt.xlabel('X')\n",
    "plt.ylabel('Y')\n",
    "plt.xlim([0, width])\n",
    "plt.ylim([0, height])\n",
    "plt.title('Path Smoothing')\n",
    "plt.grid()"
   ]
  },
  {
   "cell_type": "code",
   "execution_count": null,
   "metadata": {},
   "outputs": [],
   "source": []
  }
 ],
 "metadata": {
  "kernelspec": {
   "display_name": ".venv (3.9.24)",
   "language": "python",
   "name": "python3"
  },
  "language_info": {
   "codemirror_mode": {
    "name": "ipython",
    "version": 3
   },
   "file_extension": ".py",
   "mimetype": "text/x-python",
   "name": "python",
   "nbconvert_exporter": "python",
   "pygments_lexer": "ipython3",
   "version": "3.9.6"
  }
 },
 "nbformat": 4,
 "nbformat_minor": 2
}
